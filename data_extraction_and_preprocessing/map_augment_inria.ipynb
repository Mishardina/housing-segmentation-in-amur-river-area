{
 "cells": [
  {
   "cell_type": "code",
   "execution_count": 7,
   "metadata": {},
   "outputs": [],
   "source": [
    "import os\n",
    "import glob\n",
    "import pandas as pd\n",
    "import cv2\n",
    "from joblib import Parallel, delayed"
   ]
  },
  {
   "cell_type": "code",
   "execution_count": 38,
   "metadata": {},
   "outputs": [],
   "source": [
    "CPU_COUNT = os.cpu_count()\n",
    "\n",
    "CURR_DIR = os.getcwd()\n",
    "DATA_DIR = os.path.abspath('../data')\n",
    "INRIA_DIR = os.path.join(DATA_DIR, 'AerialImageDataset')\n",
    "\n",
    "INRIA_IMAGES_PATH = os.path.join(INRIA_DIR, 'images')\n",
    "INRIA_LABELS_PATH = os.path.join(INRIA_DIR, 'gt')\n",
    "\n",
    "INRIA_EXTRACTED_PATH = os.path.join(DATA_DIR, 'PreprocessedAerialImageDataset')\n"
   ]
  },
  {
   "cell_type": "markdown",
   "metadata": {},
   "source": [
    "# Make dataframe with images and masks"
   ]
  },
  {
   "cell_type": "code",
   "execution_count": 39,
   "metadata": {},
   "outputs": [],
   "source": [
    "images_paths = glob.glob(os.path.join(INRIA_IMAGES_PATH, '*.tif'))\n",
    "images_paths = [x.replace('\\\\', '/') for x in images_paths]\n",
    "images_names = [x.split('/')[-1].split('.')[0] for x in images_paths]"
   ]
  },
  {
   "cell_type": "code",
   "execution_count": 40,
   "metadata": {},
   "outputs": [],
   "source": [
    "masks_paths = glob.glob(os.path.join(INRIA_LABELS_PATH, '*.tif'))\n",
    "masks_paths = [x.replace('\\\\', '/') for x in masks_paths]\n",
    "masks_names = [x.split('/')[-1].split('.')[0] for x in masks_paths]"
   ]
  },
  {
   "cell_type": "code",
   "execution_count": 41,
   "metadata": {},
   "outputs": [],
   "source": [
    "images_dict = {'images_paths': images_paths, 'images_names': images_names}\n",
    "masks_dict = {'masks_paths': masks_paths, 'masks_names': masks_names}"
   ]
  },
  {
   "cell_type": "code",
   "execution_count": 42,
   "metadata": {},
   "outputs": [
    {
     "data": {
      "text/html": [
       "<div>\n",
       "<style scoped>\n",
       "    .dataframe tbody tr th:only-of-type {\n",
       "        vertical-align: middle;\n",
       "    }\n",
       "\n",
       "    .dataframe tbody tr th {\n",
       "        vertical-align: top;\n",
       "    }\n",
       "\n",
       "    .dataframe thead th {\n",
       "        text-align: right;\n",
       "    }\n",
       "</style>\n",
       "<table border=\"1\" class=\"dataframe\">\n",
       "  <thead>\n",
       "    <tr style=\"text-align: right;\">\n",
       "      <th></th>\n",
       "      <th>images_paths</th>\n",
       "      <th>images_names</th>\n",
       "      <th>masks_paths</th>\n",
       "      <th>masks_names</th>\n",
       "    </tr>\n",
       "  </thead>\n",
       "  <tbody>\n",
       "  </tbody>\n",
       "</table>\n",
       "</div>"
      ],
      "text/plain": [
       "Empty DataFrame\n",
       "Columns: [images_paths, images_names, masks_paths, masks_names]\n",
       "Index: []"
      ]
     },
     "execution_count": 42,
     "metadata": {},
     "output_type": "execute_result"
    }
   ],
   "source": [
    "df_images = pd.DataFrame(data=images_dict)\n",
    "df_masks = pd.DataFrame(data=masks_dict)\n",
    "df_inria = pd.merge(df_images, df_masks, how='inner', left_on='images_names', right_on='masks_names')\n",
    "df_inria"
   ]
  },
  {
   "cell_type": "markdown",
   "metadata": {},
   "source": [
    "# Tile images and masks"
   ]
  },
  {
   "cell_type": "code",
   "execution_count": 43,
   "metadata": {},
   "outputs": [],
   "source": [
    "INRIA_TILED_IMAGES_PATH = os.path.join(INRIA_EXTRACTED_PATH, 'images_tiled')\n",
    "INRIA_TILED_MASKS_PATH = os.path.join(INRIA_EXTRACTED_PATH, 'masks_tiled')\n",
    "\n",
    "if not os.path.exists(INRIA_TILED_IMAGES_PATH):\n",
    "    os.makedirs(INRIA_TILED_IMAGES_PATH)\n",
    "\n",
    "if not os.path.exists(INRIA_TILED_MASKS_PATH):\n",
    "    os.makedirs(INRIA_TILED_MASKS_PATH)"
   ]
  },
  {
   "cell_type": "code",
   "execution_count": 44,
   "metadata": {},
   "outputs": [],
   "source": [
    "def augment_image_and_mask(image_path, mask_path, image_name):\n",
    "    img = cv2.imread(image_path)\n",
    "    mask = cv2.imread(mask_path)\n",
    "    h_image, w_image = img.shape[:2]\n",
    "    h_mask, w_mask = mask.shape[:2]\n",
    "    assert h_image == h_mask and w_image == w_mask\n",
    "\n",
    "    h, w = h_image, w_image\n",
    "    N = 10\n",
    "    h_tile, w_tile = h // N, w // N\n",
    "\n",
    "    tiles = []\n",
    "    for y in range(N):\n",
    "        y_start = y * h_tile\n",
    "        y_end = y_start + h_tile\n",
    "\n",
    "        y_start = int(y_start)\n",
    "        y_end = int(y_end)\n",
    "\n",
    "        for x in range(N):\n",
    "            x_start = x * w_tile\n",
    "            x_end = x_start + w_tile\n",
    "\n",
    "            x_start = int(x_start)\n",
    "            x_end = int(x_end)\n",
    "\n",
    "            img_tile = img[y_start:y_end, x_start:x_end]\n",
    "            mask_tile = mask[y_start:y_end, x_start:x_end]\n",
    "            \n",
    "            tiles.append((img_tile, mask_tile))\n",
    "\n",
    "    for i in range(len(tiles)):\n",
    "        cv2.imwrite(os.path.join(INRIA_TILED_IMAGES_PATH, f'{image_name}_image_{i}.png'), img=tiles[i][0])\n",
    "        cv2.imwrite(os.path.join(INRIA_TILED_MASKS_PATH, f'{image_name}_mask_{i}.png'), img=tiles[i][1])\n"
   ]
  },
  {
   "cell_type": "code",
   "execution_count": 45,
   "metadata": {},
   "outputs": [],
   "source": [
    "_ = Parallel(n_jobs=CPU_COUNT)(delayed(augment_image_and_mask)(df_inria.iloc[i]['images_paths'], df_inria.iloc[i]['masks_paths'], df_inria.iloc[i]['images_names']) for i in range(len(df_inria)))"
   ]
  },
  {
   "cell_type": "markdown",
   "metadata": {},
   "source": [
    "# Make file with image tile - mask tile mapping. It will be used in model training"
   ]
  },
  {
   "cell_type": "code",
   "execution_count": 46,
   "metadata": {},
   "outputs": [],
   "source": [
    "images_paths = glob.glob(os.path.join(INRIA_TILED_IMAGES_PATH, '*.png'))\n",
    "images_paths = [x.replace('\\\\', '/') for x in images_paths]\n",
    "images_names = [x.split('/')[-1].split('_')[0] for x in images_paths]"
   ]
  },
  {
   "cell_type": "code",
   "execution_count": 47,
   "metadata": {},
   "outputs": [],
   "source": [
    "masks_paths = glob.glob(os.path.join(INRIA_TILED_MASKS_PATH, '*.png'))\n",
    "masks_paths = [x.replace('\\\\', '/') for x in masks_paths]\n",
    "masks_names = [x.split('/')[-1].split('_')[0] for x in masks_paths]"
   ]
  },
  {
   "cell_type": "code",
   "execution_count": 48,
   "metadata": {},
   "outputs": [],
   "source": [
    "images_dict = {'images_paths': images_paths, 'images_names': images_names}\n",
    "masks_dict = {'masks_paths': masks_paths, 'masks_names': masks_names}"
   ]
  },
  {
   "cell_type": "code",
   "execution_count": 49,
   "metadata": {},
   "outputs": [
    {
     "data": {
      "text/plain": [
       "0"
      ]
     },
     "execution_count": 49,
     "metadata": {},
     "output_type": "execute_result"
    }
   ],
   "source": [
    "len(masks_names)"
   ]
  },
  {
   "cell_type": "code",
   "execution_count": 50,
   "metadata": {},
   "outputs": [
    {
     "data": {
      "text/html": [
       "<div>\n",
       "<style scoped>\n",
       "    .dataframe tbody tr th:only-of-type {\n",
       "        vertical-align: middle;\n",
       "    }\n",
       "\n",
       "    .dataframe tbody tr th {\n",
       "        vertical-align: top;\n",
       "    }\n",
       "\n",
       "    .dataframe thead th {\n",
       "        text-align: right;\n",
       "    }\n",
       "</style>\n",
       "<table border=\"1\" class=\"dataframe\">\n",
       "  <thead>\n",
       "    <tr style=\"text-align: right;\">\n",
       "      <th></th>\n",
       "      <th>images_paths</th>\n",
       "      <th>images_names</th>\n",
       "      <th>masks_paths</th>\n",
       "      <th>masks_names</th>\n",
       "    </tr>\n",
       "  </thead>\n",
       "  <tbody>\n",
       "  </tbody>\n",
       "</table>\n",
       "</div>"
      ],
      "text/plain": [
       "Empty DataFrame\n",
       "Columns: [images_paths, images_names, masks_paths, masks_names]\n",
       "Index: []"
      ]
     },
     "execution_count": 50,
     "metadata": {},
     "output_type": "execute_result"
    }
   ],
   "source": [
    "df_images = pd.DataFrame(data=images_dict)\n",
    "df_masks = pd.DataFrame(data=masks_dict)\n",
    "df_inria = pd.concat([df_images, df_masks], axis=1)\n",
    "df_inria"
   ]
  },
  {
   "cell_type": "code",
   "execution_count": 51,
   "metadata": {},
   "outputs": [],
   "source": [
    "df_inria.to_csv('../inria_tiled.csv')"
   ]
  }
 ],
 "metadata": {
  "kernelspec": {
   "display_name": "env",
   "language": "python",
   "name": "python3"
  },
  "language_info": {
   "codemirror_mode": {
    "name": "ipython",
    "version": 3
   },
   "file_extension": ".py",
   "mimetype": "text/x-python",
   "name": "python",
   "nbconvert_exporter": "python",
   "pygments_lexer": "ipython3",
   "version": "3.10.11"
  }
 },
 "nbformat": 4,
 "nbformat_minor": 4
}
